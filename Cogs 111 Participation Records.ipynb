{
 "cells": [
  {
   "cell_type": "code",
   "execution_count": 1,
   "id": "93386d8e",
   "metadata": {},
   "outputs": [],
   "source": [
    "import pandas as pd\n",
    "import numpy as np\n",
    "import glob"
   ]
  },
  {
   "cell_type": "markdown",
   "id": "db2b721c",
   "metadata": {},
   "source": [
    "## Form Preprocessing\n",
    "\n",
    "Before running the pipeline, I will first update the secret code dictionary as the quarter is going. In WI24, the professor used google form to collect participation forms from students. After downloading the spreadsheet that contains the submission entries, I will do the following steps: \n",
    "1. Rename the filename to the date of lecture. For example, \"B&B: Week 2 (Wednesday 1/17/24) (Responses).xlsx\" --> \"1-17-24\" so that pipeline can use the filename to identiy which day the record belongs to\n",
    "2. Move the file to the folder for that week (i.e. a folder named \"Week2\" for \"1/17/24.xlsx\")\n",
    "\n",
    "You can find the participation record for WI24 hereas an example: https://docs.google.com/spreadsheets/d/1-ZvP1N-38dD1XISa0--tas1ch_N70zTAr5YRZWtNTow/edit?usp=sharing. Noted that the submission history for each lecture day was mannually added as reference in case students think there is error in their record. "
   ]
  },
  {
   "cell_type": "code",
   "execution_count": 2,
   "id": "c9a4072e",
   "metadata": {},
   "outputs": [],
   "source": [
    "secret_code = {\n",
    "    '1-17-24': 'shadedregion',\n",
    "    '1-19-24': 'coffee',\n",
    "    '1-22-24': 'flood',\n",
    "    '1-24-24': 'shiny',\n",
    "    '1-26-24': 'elbow',\n",
    "    '1-29-24': 'dutton',\n",
    "    '1-31-24': 'anayake',\n",
    "    '2-2-24': 'remote',\n",
    "    '2-5-24': 'bayesian',\n",
    "    '2-7-24': 'waldo',\n",
    "    '2-9-24': 'brain',\n",
    "    '2-14-24': 'voodoo',\n",
    "    '2-16-24': 'bigrockcandymountain',\n",
    "    '2-21-24': 'week7sucks!',\n",
    "    '2-23-24': 'bloom',\n",
    "    '2-28-24': 'sword',\n",
    "    '3-1-24': 'sundance',\n",
    "    '3-6-24': 'march15',\n",
    "    '3-8-24': 'estrogen',\n",
    "    '3-11-24': 'cookies',\n",
    "    '3-13-24': 'binomial',\n",
    "    '3-15-24': 'almostspringbreak!'\n",
    "}\n",
    "\n",
    "#Project day participation forms have different format than usual\n",
    "project_day = ['./Week6/2-12-24.xlsx', './Week8/2-26-24.xlsx', './Week9/3-4-24.xlsx']\n",
    "remote = 'remote'"
   ]
  },
  {
   "cell_type": "code",
   "execution_count": 7,
   "id": "bfe7f585",
   "metadata": {},
   "outputs": [],
   "source": [
    "#the roaster file here is essentially a raw gradebook I downloaded from canvas at the beginning of the quarter\n",
    "roaster = pd.read_csv('2024-01-22T0111_Grades-COGS111_WI24_A00.csv')\n",
    "roaster['SIS User ID'] = roaster['SIS User ID'].astype('string')"
   ]
  },
  {
   "cell_type": "markdown",
   "id": "5261572e",
   "metadata": {},
   "source": [
    "## Week 1 Participation\n",
    "\n",
    "Since everyone is still joining the class, every body who submitted the form got participation credits in week 1"
   ]
  },
  {
   "cell_type": "code",
   "execution_count": 8,
   "id": "1584c814",
   "metadata": {},
   "outputs": [],
   "source": [
    "file_names = glob.glob('./Week1/*.xlsx')\n",
    "files = []\n",
    "for file in file_names:\n",
    "    temp_file = pd.read_excel(file)\n",
    "    temp_file = temp_file[temp_file.columns[:6]]\n",
    "    temp_file['Timestamp'] = pd.to_datetime(temp_file['Timestamp'])\n",
    "    temp_file['PID'] = temp_file['PID'].astype('string').str.replace('-', '')\n",
    "    temp_file['PID'] = temp_file['PID'].str.upper()\n",
    "    temp_file['PID'] = temp_file['PID'].apply(lambda x: 'A' + x if not x.startswith('A') and not x.startswith('a') else x)\n",
    "    files.append(temp_file)"
   ]
  },
  {
   "cell_type": "code",
   "execution_count": 9,
   "id": "293c7b8d",
   "metadata": {},
   "outputs": [
    {
     "name": "stdout",
     "output_type": "stream",
     "text": [
      "1-10-24\n",
      "['A16885471', 'A17045592', 'A16893988', 'A16848913', 'A1770338', 'A16843394', 'A16796398', 'A16244966', 'A16219576', 'A17300170']\n",
      "1-12-24\n",
      "['A16843394', 'A16244966', 'A16706398', 'A16219576', 'A16688064', 'A17300170']\n",
      "1-8-24\n",
      "['A16217627', 'A16843394', 'A16272305', 'A17587027', 'A16244966', 'A16735067', 'A17045592', 'A16329013', 'A16893988', 'A17480805', 'A16848913', 'A16942072', 'A17655426', 'A16219576', 'A16796398', 'A17300170', 'A16865419']\n"
     ]
    }
   ],
   "source": [
    "for i in range(len(file_names)):\n",
    "    file = files[i]\n",
    "    filename = file_names[i].split('/')[-1][:-5]\n",
    "    missing_ID = []\n",
    "\n",
    "    roaster[filename] = ['0' for j in range(len(roaster))]\n",
    "    for ID in file['PID']:\n",
    "        if ID in roaster['SIS User ID'].dropna().tolist():\n",
    "            roaster.loc[roaster['SIS User ID'] == ID, filename] = '1'\n",
    "        else:\n",
    "            missing_ID.append(ID)\n",
    "    \n",
    "    print(filename)\n",
    "    print(missing_ID)"
   ]
  },
  {
   "cell_type": "markdown",
   "id": "b1c853a4",
   "metadata": {},
   "source": [
    "## Week 2 Participation\n",
    "\n",
    "Starting week 2, the deadline for in person and remote credit applies. \n",
    "- For in person credit, the participation form must be submitted with the correct passcode within 1 hour after the lecture (1PM for WI24)\n",
    "- For remote credit, the participation form must be submitted with the passcode as \"remote\" within 48 hours of the class meeting\n",
    "\n",
    "After loading in the spreadsheets, the for loop below will examine if the submission entry is within the deadline according to the passcode. If the passcode is correct and it is within the deadline, the record will be updated as \"1\" for in person credit and \"1*\" for remote credit. If the submission is missing, the record will be updated as \"0\". The for loop below will also spit out PIDs that doesn't match to any student on the roaster (usually due to typos from students). Usually I will just go back to the participation files and correct their PIDs for them. "
   ]
  },
  {
   "cell_type": "code",
   "execution_count": 12,
   "id": "57f15abb",
   "metadata": {},
   "outputs": [],
   "source": [
    "file_names = glob.glob('./Week2/*.xlsx')\n",
    "files = []\n",
    "for file in file_names:\n",
    "    temp_file = pd.read_excel(file)\n",
    "    temp_file = temp_file[temp_file.columns[:6]]\n",
    "    temp_file['Timestamp'] = pd.to_datetime(temp_file['Timestamp'])\n",
    "    temp_file['PID'] = temp_file['PID'].astype('string').str.replace('-', '')\n",
    "    temp_file['PID'] = temp_file['PID'].str.upper()\n",
    "    temp_file['PID'] = temp_file['PID'].apply(lambda x: 'A' + x if not x.startswith('A') and not x.startswith('a') else x)\n",
    "    temp_file['PID'] = temp_file['PID'].str.replace('.', '')\n",
    "    temp_file['Secret Code'] = temp_file['Secret Code'].str.lower()\n",
    "    temp_file['Secret Code'] = temp_file['Secret Code'].str.replace(' ', '')\n",
    "    temp_file = temp_file.drop_duplicates(subset = ['PID'], keep = 'last')\n",
    "    files.append(temp_file)"
   ]
  },
  {
   "cell_type": "code",
   "execution_count": 13,
   "id": "d4432c22",
   "metadata": {},
   "outputs": [
    {
     "name": "stdout",
     "output_type": "stream",
     "text": [
      "1-17-24\n",
      "['A16244966', 'A16843394', 'A18049536', 'A17300170']\n",
      "1-19-24\n",
      "['A17300170']\n"
     ]
    }
   ],
   "source": [
    "for i in range(len(files)):\n",
    "    file = files[i]\n",
    "    filename = file_names[i].split('/')[-1][:-5]\n",
    "    missing_ID = []\n",
    "    dl_sc = pd.to_datetime(filename + ' 13:00:00')\n",
    "    dl_rm = dl_sc + pd.Timedelta(hours = 47)\n",
    "    secretcode = secret_code[filename]\n",
    "\n",
    "    roaster[filename] = ['0' for j in range(len(roaster))]\n",
    "    for ID in file['PID']:\n",
    "        if ID in roaster['SIS User ID'].dropna().tolist():\n",
    "            entry = file[file['PID'] == ID]\n",
    "            \n",
    "            if (secretcode in entry['Secret Code'].tolist()) and (entry['Timestamp'] < dl_sc).tolist()[0]:\n",
    "                roaster.loc[roaster['SIS User ID'] == ID, filename] = '1'\n",
    "            elif (remote in entry['Secret Code'].tolist()) and (entry['Timestamp'] < dl_rm).tolist()[0]:\n",
    "                roaster.loc[roaster['SIS User ID'] == ID, filename] = '1*'\n",
    "        else:\n",
    "            missing_ID.append(ID)\n",
    "    \n",
    "    print(filename)\n",
    "    print(missing_ID)\n",
    "    \n",
    "# Late add student: A17313198, adding credit for first 2 weeks lecture\n",
    "roaster.loc[roaster['SIS User ID'] == 'A17313198'] = roaster.loc[roaster['SIS User ID'] == 'A17313198'].replace('0', '1')\n",
    "#roaster[roaster['SIS User ID'] == 'A17313198']"
   ]
  },
  {
   "cell_type": "markdown",
   "id": "3c3d108b",
   "metadata": {},
   "source": [
    "## Week 3 Attendance"
   ]
  },
  {
   "cell_type": "code",
   "execution_count": 8,
   "id": "41b82ce5",
   "metadata": {},
   "outputs": [],
   "source": [
    "file_names = glob.glob('./Week3/*.xlsx')\n",
    "files = []\n",
    "for file in file_names:\n",
    "    temp_file = pd.read_excel(file)\n",
    "    temp_file = temp_file[temp_file.columns[:6]]\n",
    "    temp_file['Timestamp'] = pd.to_datetime(temp_file['Timestamp'])\n",
    "    temp_file['PID'] = temp_file['PID'].astype('string').str.replace('-', '')\n",
    "    temp_file['PID'] = temp_file['PID'].str.upper()\n",
    "    temp_file['PID'] = temp_file['PID'].apply(lambda x: 'A' + x if not x.startswith('A') and not x.startswith('a') else x)\n",
    "    temp_file['PID'] = temp_file['PID'].str.replace('.', '')\n",
    "    temp_file['PID'] = temp_file['PID'].str.replace(' ', '')\n",
    "    temp_file['Secret Code'] = temp_file['Secret Code'].str.lower()\n",
    "    temp_file['Secret Code'] = temp_file['Secret Code'].str.replace(' ', '')\n",
    "    temp_file = temp_file.drop_duplicates(subset = ['PID'], keep = 'last')\n",
    "    files.append(temp_file)"
   ]
  },
  {
   "cell_type": "code",
   "execution_count": 9,
   "id": "81309675",
   "metadata": {},
   "outputs": [
    {
     "name": "stdout",
     "output_type": "stream",
     "text": [
      "1-22-24\n",
      "[]\n",
      "1-24-24\n",
      "[]\n",
      "1-26-24\n",
      "[]\n"
     ]
    }
   ],
   "source": [
    "for i in range(len(files)):\n",
    "    file = files[i]\n",
    "    filename = file_names[i].split('/')[-1][:-5]\n",
    "    missing_ID = []\n",
    "    dl_sc = pd.to_datetime(filename + ' 13:00:00')\n",
    "    dl_rm = dl_sc + pd.Timedelta(hours = 47)\n",
    "    secretcode = secret_code[filename]\n",
    "\n",
    "    roaster[filename] = ['0' for j in range(len(roaster))]\n",
    "    for ID in file['PID']:\n",
    "        if ID in roaster['SIS User ID'].dropna().tolist():\n",
    "            entry = file[file['PID'] == ID]\n",
    "            \n",
    "            if filename == '1-22-24':\n",
    "                if (secretcode in entry['Secret Code'].tolist()[0]) and (entry['Timestamp'] < dl_sc).tolist()[0]:\n",
    "                    roaster.loc[roaster['SIS User ID'] == ID, filename] = '1'\n",
    "            \n",
    "                elif (remote in entry['Secret Code'].tolist()) and (entry['Timestamp'] < dl_rm).tolist()[0]:\n",
    "                    roaster.loc[roaster['SIS User ID'] == ID, filename] = '1*'\n",
    "            else:\n",
    "                if (secretcode in entry['Secret Code'].tolist()) and (entry['Timestamp'] < dl_sc).tolist()[0]:\n",
    "                    roaster.loc[roaster['SIS User ID'] == ID, filename] = '1'\n",
    "            \n",
    "                elif (remote in entry['Secret Code'].tolist()) and (entry['Timestamp'] < dl_rm).tolist()[0]:\n",
    "                    roaster.loc[roaster['SIS User ID'] == ID, filename] = '1*'\n",
    "        else:\n",
    "            missing_ID.append(ID)\n",
    "    \n",
    "    print(filename)\n",
    "    print(missing_ID)"
   ]
  },
  {
   "cell_type": "markdown",
   "id": "4691252d",
   "metadata": {},
   "source": [
    "## Week 4 Attendance"
   ]
  },
  {
   "cell_type": "code",
   "execution_count": 10,
   "id": "aa0ca94c",
   "metadata": {},
   "outputs": [],
   "source": [
    "file_names = glob.glob('./Week4/*.xlsx')\n",
    "files = []\n",
    "for file in file_names:\n",
    "    temp_file = pd.read_excel(file)\n",
    "    temp_file = temp_file[temp_file.columns[:6]]\n",
    "    temp_file['Timestamp'] = pd.to_datetime(temp_file['Timestamp'])\n",
    "    temp_file['PID'] = temp_file['PID'].astype('string').str.replace('-', '')\n",
    "    temp_file['PID'] = temp_file['PID'].str.upper()\n",
    "    temp_file['PID'] = temp_file['PID'].apply(lambda x: 'A' + x if not x.startswith('A') and not x.startswith('a') else x)\n",
    "    temp_file['PID'] = temp_file['PID'].str.replace('.', '')\n",
    "    temp_file['PID'] = temp_file['PID'].str.replace(' ', '')\n",
    "    temp_file['Secret Code'] = temp_file['Secret Code'].str.lower()\n",
    "    temp_file['Secret Code'] = temp_file['Secret Code'].str.replace(' ', '')\n",
    "    temp_file = temp_file.drop_duplicates(subset = ['PID'], keep = 'last')\n",
    "    files.append(temp_file)"
   ]
  },
  {
   "cell_type": "code",
   "execution_count": 11,
   "id": "9357c65c",
   "metadata": {},
   "outputs": [
    {
     "name": "stdout",
     "output_type": "stream",
     "text": [
      "1-29-24\n",
      "[]\n",
      "1-31-24\n",
      "[]\n",
      "2-2-24\n",
      "[]\n"
     ]
    }
   ],
   "source": [
    "for i in range(len(files)):\n",
    "    file = files[i]\n",
    "    filename = file_names[i].split('/')[-1][:-5]\n",
    "    missing_ID = []\n",
    "    dl_sc = pd.to_datetime(filename + ' 13:00:00')\n",
    "    dl_rm = dl_sc + pd.Timedelta(hours = 47)\n",
    "    secretcode = secret_code[filename]\n",
    "\n",
    "    roaster[filename] = ['0' for j in range(len(roaster))]\n",
    "    for ID in file['PID']:\n",
    "        if ID in roaster['SIS User ID'].dropna().tolist():\n",
    "            entry = file[file['PID'] == ID]\n",
    "            \n",
    "            if filename == '1-31-24':\n",
    "                if (secretcode in entry['Secret Code'].tolist()[0]) and (entry['Timestamp'] < dl_sc).tolist()[0]:\n",
    "                    roaster.loc[roaster['SIS User ID'] == ID, filename] = '1'\n",
    "            \n",
    "                elif (remote in entry['Secret Code'].tolist()) and (entry['Timestamp'] < dl_rm).tolist()[0]:\n",
    "                    roaster.loc[roaster['SIS User ID'] == ID, filename] = '1*'\n",
    "            else:\n",
    "                if (secretcode in entry['Secret Code'].tolist()) and (entry['Timestamp'] < dl_sc).tolist()[0]:\n",
    "                    roaster.loc[roaster['SIS User ID'] == ID, filename] = '1'\n",
    "                elif (remote in entry['Secret Code'].tolist()) and (entry['Timestamp'] < dl_rm).tolist()[0]:\n",
    "                    roaster.loc[roaster['SIS User ID'] == ID, filename] = '1*'\n",
    "        else:\n",
    "            missing_ID.append(ID)\n",
    "    \n",
    "    print(filename)\n",
    "    print(missing_ID)"
   ]
  },
  {
   "cell_type": "markdown",
   "id": "1c0d635b",
   "metadata": {},
   "source": [
    "## Week 5 Attendance "
   ]
  },
  {
   "cell_type": "code",
   "execution_count": 12,
   "id": "69b4e2b7",
   "metadata": {},
   "outputs": [],
   "source": [
    "file_names = glob.glob('./Week5/*.xlsx')\n",
    "files = []\n",
    "for file in file_names:\n",
    "    temp_file = pd.read_excel(file)\n",
    "    temp_file = temp_file[temp_file.columns[:6]]\n",
    "    temp_file['Timestamp'] = pd.to_datetime(temp_file['Timestamp'])\n",
    "    temp_file['PID'] = temp_file['PID'].astype('string').str.replace('-', '')\n",
    "    temp_file['PID'] = temp_file['PID'].str.upper()\n",
    "    temp_file['PID'] = temp_file['PID'].apply(lambda x: 'A' + x if not x.startswith('A') and not x.startswith('a') else x)\n",
    "    temp_file['PID'] = temp_file['PID'].str.replace('.', '')\n",
    "    temp_file['PID'] = temp_file['PID'].str.replace(' ', '')\n",
    "    temp_file['Secret Code'] = temp_file['Secret Code'].str.lower()\n",
    "    temp_file['Secret Code'] = temp_file['Secret Code'].str.replace(' ', '')\n",
    "    temp_file = temp_file.drop_duplicates(subset = ['PID'], keep = 'last')\n",
    "    files.append(temp_file)"
   ]
  },
  {
   "cell_type": "code",
   "execution_count": 13,
   "id": "1a522071",
   "metadata": {},
   "outputs": [
    {
     "name": "stdout",
     "output_type": "stream",
     "text": [
      "2-5-24\n",
      "[]\n",
      "2-7-24\n",
      "[]\n",
      "2-9-24\n",
      "[]\n"
     ]
    }
   ],
   "source": [
    "for i in range(len(files)):\n",
    "    file = files[i]\n",
    "    filename = file_names[i].split('/')[-1][:-5]\n",
    "    missing_ID = []\n",
    "    dl_sc = pd.to_datetime(filename + ' 13:00:00')\n",
    "    dl_rm = dl_sc + pd.Timedelta(hours = 47)\n",
    "    secretcode = secret_code[filename]\n",
    "\n",
    "    roaster[filename] = ['0' for j in range(len(roaster))]\n",
    "    for ID in file['PID']:\n",
    "        if ID in roaster['SIS User ID'].dropna().tolist():\n",
    "            entry = file[file['PID'] == ID]\n",
    "            \n",
    "            if (secretcode in entry['Secret Code'].tolist()) and (entry['Timestamp'] < dl_sc).tolist()[0]:\n",
    "                roaster.loc[roaster['SIS User ID'] == ID, filename] = '1'\n",
    "            elif (remote in entry['Secret Code'].tolist()) and (entry['Timestamp'] < dl_rm).tolist()[0]:\n",
    "                roaster.loc[roaster['SIS User ID'] == ID, filename] = '1*'\n",
    "        else:\n",
    "            missing_ID.append(ID)\n",
    "    \n",
    "    print(filename)\n",
    "    print(missing_ID)"
   ]
  },
  {
   "cell_type": "markdown",
   "id": "ec3340f6",
   "metadata": {},
   "source": [
    "## Week 6 Attendance "
   ]
  },
  {
   "cell_type": "code",
   "execution_count": 14,
   "id": "4a148bf2",
   "metadata": {},
   "outputs": [],
   "source": [
    "file_names = glob.glob('./Week6/*.xlsx')\n",
    "file_names_loop = file_names.copy()\n",
    "files = []\n",
    "for file in file_names_loop:\n",
    "    if file in project_day:\n",
    "        file_names.remove(file)\n",
    "        continue\n",
    "    else:\n",
    "        temp_file = pd.read_excel(file)\n",
    "        temp_file = temp_file[temp_file.columns[:7]]\n",
    "        temp_file['Timestamp'] = pd.to_datetime(temp_file['Timestamp'])\n",
    "        temp_file['PID'] = temp_file['PID'].astype('string').str.replace('-', '')\n",
    "        temp_file['PID'] = temp_file['PID'].str.upper()\n",
    "        temp_file['PID'] = temp_file['PID'].apply(lambda x: 'A' + x if not x.startswith('A') and not x.startswith('a') else x)\n",
    "        temp_file['PID'] = temp_file['PID'].str.replace('.', '')\n",
    "        temp_file['PID'] = temp_file['PID'].str.replace(' ', '')\n",
    "        temp_file['Secret Code'] = temp_file['Secret Code'].str.lower()\n",
    "        temp_file['Secret Code'] = temp_file['Secret Code'].astype('string').str.replace('-', '')\n",
    "        temp_file['Secret Code'] = temp_file['Secret Code'].str.replace(' ', '')\n",
    "        temp_file = temp_file.drop_duplicates(subset = ['PID'], keep = 'last')\n",
    "        files.append(temp_file)"
   ]
  },
  {
   "cell_type": "code",
   "execution_count": 15,
   "id": "2f7e80d0",
   "metadata": {},
   "outputs": [
    {
     "name": "stdout",
     "output_type": "stream",
     "text": [
      "2-14-24\n",
      "[]\n",
      "2-16-24\n",
      "[]\n"
     ]
    }
   ],
   "source": [
    "for i in range(len(files)):\n",
    "    file = files[i]\n",
    "    filename = file_names[i].split('/')[-1][:-5]\n",
    "    missing_ID = []\n",
    "    dl_sc = pd.to_datetime(filename + ' 13:00:00')\n",
    "    dl_rm = dl_sc + pd.Timedelta(hours = 47)\n",
    "    secretcode = secret_code[filename]\n",
    "\n",
    "    roaster[filename] = ['0' for j in range(len(roaster))]\n",
    "    for ID in file['PID']:\n",
    "        if ID in roaster['SIS User ID'].dropna().tolist():\n",
    "            entry = file[file['PID'] == ID]\n",
    "            \n",
    "            if (secretcode in entry['Secret Code'].tolist()) and (entry['Timestamp'] < dl_sc).tolist()[0]:\n",
    "                roaster.loc[roaster['SIS User ID'] == ID, filename] = '1'\n",
    "            elif (remote in entry['Secret Code'].tolist()) and (entry['Timestamp'] < dl_rm).tolist()[0]:\n",
    "                roaster.loc[roaster['SIS User ID'] == ID, filename] = '1*'\n",
    "        else:\n",
    "            missing_ID.append(ID)\n",
    "    \n",
    "    print(filename)\n",
    "    print(missing_ID)"
   ]
  },
  {
   "cell_type": "markdown",
   "id": "66d9c46e",
   "metadata": {},
   "source": [
    "## Week 7 Attendance"
   ]
  },
  {
   "cell_type": "code",
   "execution_count": 16,
   "id": "ac775048",
   "metadata": {},
   "outputs": [],
   "source": [
    "file_names = glob.glob('./Week7/*.xlsx')\n",
    "files = []\n",
    "for file in file_names:\n",
    "    temp_file = pd.read_excel(file)\n",
    "    temp_file = temp_file[temp_file.columns[:6]]\n",
    "    temp_file['Timestamp'] = pd.to_datetime(temp_file['Timestamp'])\n",
    "    temp_file['PID'] = temp_file['PID'].astype('string').str.replace('-', '')\n",
    "    temp_file['PID'] = temp_file['PID'].str.upper()\n",
    "    temp_file['PID'] = temp_file['PID'].apply(lambda x: 'A' + x if not x.startswith('A') and not x.startswith('a') else x)\n",
    "    temp_file['PID'] = temp_file['PID'].str.replace('.', '')\n",
    "    temp_file['PID'] = temp_file['PID'].str.replace(' ', '')\n",
    "    temp_file = temp_file.rename(columns = {\n",
    "        'Todays *secret* code (sharing this code with someone not in class, or getting this code from someone else, is a violation of academic integrity)': 'Secret Code'\n",
    "    })\n",
    "    temp_file['Secret Code'] = temp_file['Secret Code'].str.lower()\n",
    "    temp_file['Secret Code'] = temp_file['Secret Code'].str.replace(' ', '')\n",
    "    temp_file = temp_file.drop_duplicates(subset = ['PID'], keep = 'last')\n",
    "    files.append(temp_file)"
   ]
  },
  {
   "cell_type": "code",
   "execution_count": 17,
   "id": "b986ad2d",
   "metadata": {},
   "outputs": [
    {
     "name": "stdout",
     "output_type": "stream",
     "text": [
      "2-21-24\n",
      "[]\n",
      "2-23-24\n",
      "[]\n"
     ]
    }
   ],
   "source": [
    "for i in range(len(files)):\n",
    "    file = files[i]\n",
    "    filename = file_names[i].split('/')[-1][:-5]\n",
    "    missing_ID = []\n",
    "    dl_sc = pd.to_datetime(filename + ' 13:00:00')\n",
    "    dl_rm = dl_sc + pd.Timedelta(hours = 47)\n",
    "    secretcode = secret_code[filename]\n",
    "\n",
    "    roaster[filename] = ['0' for j in range(len(roaster))]\n",
    "    for ID in file['PID']:\n",
    "        if ID in roaster['SIS User ID'].dropna().tolist():\n",
    "            entry = file[file['PID'] == ID]\n",
    "            \n",
    "            if (secretcode in entry['Secret Code'].tolist()) and (entry['Timestamp'] < dl_sc).tolist()[0]:\n",
    "                roaster.loc[roaster['SIS User ID'] == ID, filename] = '1'\n",
    "            elif (remote in entry['Secret Code'].tolist()) and (entry['Timestamp'] < dl_rm).tolist()[0]:\n",
    "                roaster.loc[roaster['SIS User ID'] == ID, filename] = '1*'\n",
    "        else:\n",
    "            missing_ID.append(ID)\n",
    "    \n",
    "    print(filename)\n",
    "    print(missing_ID)"
   ]
  },
  {
   "cell_type": "markdown",
   "id": "7be5467e",
   "metadata": {},
   "source": [
    "## Week 8 Attendance"
   ]
  },
  {
   "cell_type": "code",
   "execution_count": 18,
   "id": "f6c6a978",
   "metadata": {},
   "outputs": [],
   "source": [
    "file_names = glob.glob('./Week8/*.xlsx')\n",
    "file_names_loop = file_names.copy()\n",
    "files = []\n",
    "for file in file_names_loop:\n",
    "    if file in project_day:\n",
    "        file_names.remove(file)\n",
    "        continue\n",
    "    else:\n",
    "        temp_file = pd.read_excel(file)\n",
    "        temp_file = temp_file[temp_file.columns[:6]]\n",
    "        temp_file['Timestamp'] = pd.to_datetime(temp_file['Timestamp'])\n",
    "        temp_file['PID'] = temp_file['PID'].astype('string').str.replace('-', '')\n",
    "        temp_file['PID'] = temp_file['PID'].str.upper()\n",
    "        temp_file['PID'] = temp_file['PID'].apply(lambda x: 'A' + x if not x.startswith('A') and not x.startswith('a') else x)\n",
    "        temp_file['PID'] = temp_file['PID'].str.replace('.', '')\n",
    "        temp_file['PID'] = temp_file['PID'].str.replace(' ', '')\n",
    "        temp_file = temp_file.rename(columns = {\n",
    "        'Todays *secret* code (sharing this code with someone not in class, or getting this code from someone else, is a violation of academic integrity)': 'Secret Code'\n",
    "        })\n",
    "        temp_file['Secret Code'] = temp_file['Secret Code'].str.lower()\n",
    "        temp_file['Secret Code'] = temp_file['Secret Code'].str.replace(' ', '')\n",
    "        temp_file = temp_file.drop_duplicates(subset = ['PID'], keep = 'last')\n",
    "        files.append(temp_file)"
   ]
  },
  {
   "cell_type": "code",
   "execution_count": 19,
   "id": "7765d6fd",
   "metadata": {},
   "outputs": [
    {
     "name": "stdout",
     "output_type": "stream",
     "text": [
      "2-28-24\n",
      "[]\n",
      "3-1-24\n",
      "[]\n"
     ]
    }
   ],
   "source": [
    "for i in range(len(files)):\n",
    "    file = files[i]\n",
    "    filename = file_names[i].split('/')[-1][:-5]\n",
    "    missing_ID = []\n",
    "    dl_sc = pd.to_datetime(filename + ' 13:00:00')\n",
    "    dl_rm = dl_sc + pd.Timedelta(hours = 47)\n",
    "    secretcode = secret_code[filename]\n",
    "\n",
    "    roaster[filename] = ['0' for j in range(len(roaster))]\n",
    "    for ID in file['PID']:\n",
    "        if ID in roaster['SIS User ID'].dropna().tolist():\n",
    "            entry = file[file['PID'] == ID]\n",
    "            \n",
    "            if (secretcode in entry['Secret Code'].tolist()) and (entry['Timestamp'] < dl_sc).tolist()[0]:\n",
    "                roaster.loc[roaster['SIS User ID'] == ID, filename] = '1'\n",
    "            elif (remote in entry['Secret Code'].tolist()) and (entry['Timestamp'] < dl_rm).tolist()[0]:\n",
    "                roaster.loc[roaster['SIS User ID'] == ID, filename] = '1*'\n",
    "        else:\n",
    "            missing_ID.append(ID)\n",
    "    \n",
    "    print(filename)\n",
    "    print(missing_ID)"
   ]
  },
  {
   "cell_type": "markdown",
   "id": "6ae11dc2",
   "metadata": {},
   "source": [
    "## Week 9 Attendance"
   ]
  },
  {
   "cell_type": "code",
   "execution_count": 20,
   "id": "5ab1f2bc",
   "metadata": {},
   "outputs": [],
   "source": [
    "file_names = glob.glob('./Week9/*.xlsx')\n",
    "file_names_loop = file_names.copy()\n",
    "files = []\n",
    "for file in file_names_loop:\n",
    "    if file in project_day:\n",
    "        file_names.remove(file)\n",
    "        continue\n",
    "    else:\n",
    "        temp_file = pd.read_excel(file)\n",
    "        temp_file = temp_file[temp_file.columns[:6]]\n",
    "        temp_file['Timestamp'] = pd.to_datetime(temp_file['Timestamp'])\n",
    "        temp_file['PID'] = temp_file['PID'].astype('string').str.replace('-', '')\n",
    "        temp_file['PID'] = temp_file['PID'].str.upper()\n",
    "        temp_file['PID'] = temp_file['PID'].apply(lambda x: 'A' + x if not x.startswith('A') and not x.startswith('a') else x)\n",
    "        temp_file['PID'] = temp_file['PID'].str.replace('.', '')\n",
    "        temp_file['PID'] = temp_file['PID'].str.replace(' ', '')\n",
    "        temp_file['Secret Code'] = temp_file['Secret Code'].str.lower()\n",
    "        temp_file['Secret Code'] = temp_file['Secret Code'].str.replace(' ', '')\n",
    "        temp_file = temp_file.drop_duplicates(subset = ['PID'], keep = 'last')\n",
    "        files.append(temp_file)"
   ]
  },
  {
   "cell_type": "code",
   "execution_count": 21,
   "id": "41d70d0b",
   "metadata": {},
   "outputs": [
    {
     "name": "stdout",
     "output_type": "stream",
     "text": [
      "3-6-24\n",
      "[]\n",
      "3-8-24\n",
      "[]\n"
     ]
    }
   ],
   "source": [
    "for i in range(len(files)):\n",
    "    file = files[i]\n",
    "    filename = file_names[i].split('/')[-1][:-5]\n",
    "    missing_ID = []\n",
    "    dl_sc = pd.to_datetime(filename + ' 13:00:00')\n",
    "    dl_rm = dl_sc + pd.Timedelta(hours = 47)\n",
    "    secretcode = secret_code[filename]\n",
    "\n",
    "    roaster[filename] = ['0' for j in range(len(roaster))]\n",
    "    for ID in file['PID']:\n",
    "        if ID in roaster['SIS User ID'].dropna().tolist():\n",
    "            entry = file[file['PID'] == ID]\n",
    "            \n",
    "            if (secretcode in entry['Secret Code'].tolist()) and (entry['Timestamp'] < dl_sc).tolist()[0]:\n",
    "                roaster.loc[roaster['SIS User ID'] == ID, filename] = '1'\n",
    "            elif (remote in entry['Secret Code'].tolist()) and (entry['Timestamp'] < dl_rm).tolist()[0]:\n",
    "                roaster.loc[roaster['SIS User ID'] == ID, filename] = '1*'\n",
    "        else:\n",
    "            missing_ID.append(ID)\n",
    "    \n",
    "    print(filename)\n",
    "    print(missing_ID)"
   ]
  },
  {
   "cell_type": "markdown",
   "id": "63ac1c26",
   "metadata": {},
   "source": [
    "## Week 10 Attendance"
   ]
  },
  {
   "cell_type": "code",
   "execution_count": 25,
   "id": "28a89255",
   "metadata": {},
   "outputs": [],
   "source": [
    "file_names = glob.glob('./Week10/*.xlsx')\n",
    "files = []\n",
    "for file in file_names:\n",
    "    temp_file = pd.read_excel(file)\n",
    "    temp_file = temp_file[temp_file.columns[:6]]\n",
    "    temp_file['Timestamp'] = pd.to_datetime(temp_file['Timestamp'])\n",
    "    temp_file['PID'] = temp_file['PID'].astype('string').str.replace('-', '')\n",
    "    temp_file['PID'] = temp_file['PID'].str.upper()\n",
    "    temp_file['PID'] = temp_file['PID'].apply(lambda x: 'A' + x if not x.startswith('A') and not x.startswith('a') else x)\n",
    "    temp_file['PID'] = temp_file['PID'].str.replace('.', '')\n",
    "    temp_file['PID'] = temp_file['PID'].str.replace(' ', '')\n",
    "    temp_file['Secret Code'] = temp_file['Secret Code'].str.lower()\n",
    "    temp_file['Secret Code'] = temp_file['Secret Code'].str.replace(' ', '')\n",
    "    temp_file = temp_file.drop_duplicates(subset = ['PID'], keep = 'last')\n",
    "    files.append(temp_file)"
   ]
  },
  {
   "cell_type": "code",
   "execution_count": 26,
   "id": "62f6d0fe",
   "metadata": {},
   "outputs": [
    {
     "name": "stdout",
     "output_type": "stream",
     "text": [
      "3-11-24\n",
      "[]\n",
      "3-13-24\n",
      "[]\n",
      "3-15-24\n",
      "[]\n"
     ]
    }
   ],
   "source": [
    "for i in range(len(files)):\n",
    "    file = files[i]\n",
    "    filename = file_names[i].split('/')[-1][:-5]\n",
    "    missing_ID = []\n",
    "    dl_sc = pd.to_datetime(filename + ' 13:00:00')\n",
    "    dl_rm = dl_sc + pd.Timedelta(hours = 47)\n",
    "    secretcode = secret_code[filename]\n",
    "\n",
    "    roaster[filename] = ['0' for j in range(len(roaster))]\n",
    "    for ID in file['PID']:\n",
    "        if ID in roaster['SIS User ID'].dropna().tolist():\n",
    "            entry = file[file['PID'] == ID]\n",
    "            \n",
    "            if (secretcode in entry['Secret Code'].tolist()) and (entry['Timestamp'] < dl_sc).tolist()[0]:\n",
    "                roaster.loc[roaster['SIS User ID'] == ID, filename] = '1'\n",
    "            elif (remote in entry['Secret Code'].tolist()) and (entry['Timestamp'] < dl_rm).tolist()[0]:\n",
    "                roaster.loc[roaster['SIS User ID'] == ID, filename] = '1*'\n",
    "        else:\n",
    "            missing_ID.append(ID)\n",
    "    \n",
    "    print(filename)\n",
    "    print(missing_ID)"
   ]
  },
  {
   "cell_type": "markdown",
   "id": "b707305c",
   "metadata": {},
   "source": [
    "## Project Day Attendance"
   ]
  },
  {
   "cell_type": "code",
   "execution_count": 14,
   "id": "1e7ef0ec",
   "metadata": {},
   "outputs": [
    {
     "name": "stdout",
     "output_type": "stream",
     "text": [
      "2-12-24\n",
      "[\"A(HASN'TCONTACTEDUSYET)\"]\n",
      "2-26-24\n",
      "[]\n",
      "3-4-24\n",
      "['AWEDIDTHEPICTUREWITHJUSTTHREEMEMBERSBECAUSEALEXAWORKEDVIACALL:)', 'A1831529']\n"
     ]
    }
   ],
   "source": [
    "for file in project_day:\n",
    "    missing_ID = []\n",
    "    temp_file = pd.read_excel(file)\n",
    "    filename = file.split('/')[-1][:-5]\n",
    "    PIDs = temp_file[['PID #1', 'PID #2', 'PID #3', 'PID #4', 'PID #5', 'PID #6']]\n",
    "    PIDs = PIDs.fillna('A99')\n",
    "    for col in PIDs.columns:\n",
    "        PIDs[col] = PIDs[col].astype('string').str.replace('-', '')\n",
    "        PIDs[col] = PIDs[col].str.upper()\n",
    "        PIDs[col] = PIDs[col].apply(lambda x: 'A' + x if pd.notna(x) and not x.startswith('A') and not x.startswith('a') else x)\n",
    "        PIDs[col] = PIDs[col].str.replace('.', '')\n",
    "        PIDs[col] = PIDs[col].str.replace(' ', '')\n",
    "\n",
    "    PIDs = PIDs.values.flatten()\n",
    "    PIDs = [str(i) for i in PIDs if str(i) != 'nan']\n",
    "    \n",
    "    for ID in PIDs:\n",
    "        if ID in roaster['SIS User ID'].dropna().tolist():\n",
    "            roaster.loc[roaster['SIS User ID'] == ID, filename] = '1'\n",
    "        elif ID == 'A99':\n",
    "            continue\n",
    "        else:\n",
    "            missing_ID.append(ID)\n",
    "    \n",
    "    print(filename)\n",
    "    print(missing_ID)"
   ]
  },
  {
   "cell_type": "code",
   "execution_count": 15,
   "id": "99048281",
   "metadata": {},
   "outputs": [],
   "source": [
    "roaster['In Person Attendance'] = roaster.apply(lambda row: (row == '1').sum(), axis=1)\n",
    "roaster['Remote Attendance'] = roaster.apply(lambda row: (row == '1*').sum(), axis=1)\n"
   ]
  },
  {
   "cell_type": "code",
   "execution_count": 27,
   "id": "57baf2ce",
   "metadata": {},
   "outputs": [],
   "source": [
    "#roaster.drop(columns = ['ID', 'SIS Login ID', 'Section']).to_csv('pilot participation 0320.csv', index = False)"
   ]
  },
  {
   "cell_type": "code",
   "execution_count": null,
   "id": "a15cdd6b",
   "metadata": {},
   "outputs": [],
   "source": []
  }
 ],
 "metadata": {
  "kernelspec": {
   "display_name": "Python 3 (ipykernel)",
   "language": "python",
   "name": "python3"
  },
  "language_info": {
   "codemirror_mode": {
    "name": "ipython",
    "version": 3
   },
   "file_extension": ".py",
   "mimetype": "text/x-python",
   "name": "python",
   "nbconvert_exporter": "python",
   "pygments_lexer": "ipython3",
   "version": "3.10.12"
  }
 },
 "nbformat": 4,
 "nbformat_minor": 5
}
